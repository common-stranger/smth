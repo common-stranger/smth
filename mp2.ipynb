{
 "cells": [
  {
   "cell_type": "code",
   "execution_count": 41,
   "metadata": {},
   "outputs": [
    {
     "name": "stdout",
     "output_type": "stream",
     "text": [
      "converged SCF energy = -157.201013620905\n"
     ]
    }
   ],
   "source": [
    "# step 1\n",
    "from pyscf import gto, scf\n",
    "\n",
    "mol = gto.Mole()\n",
    "\n",
    "mol.atom = \"\"\"\n",
    "                C    4.80585    -0.85311    1.96913  \n",
    "                H    5.1625    -1.86192    1.96913  \n",
    "                H    5.16252    -0.34871    2.84278  \n",
    "                H    5.16252    -0.34871    1.09548  \n",
    "                C    3.26585    -0.85309    1.96913  \n",
    "                H    2.9092    0.15572    1.97108  \n",
    "                H    2.90918    -1.35579    1.0945  \n",
    "                C    2.75251    -1.58148    3.22512  \n",
    "                H    3.10949    -1.079    4.09975  \n",
    "                H    3.10885    -2.5904    3.22298  \n",
    "                C    1.21251    -1.58099    3.22539  \n",
    "                H    0.85553    -2.0834    2.35072  \n",
    "                H    0.85616    -0.57208    3.22762  \n",
    "                H    0.71486    -2.13574    4.355959\n",
    "    \"\"\"\n",
    "\n",
    "mol.basis = \"6-31g\"\n",
    "mol.build()\n",
    "\n",
    "mf = scf.RHF(mol).run()"
   ]
  },
  {
   "cell_type": "code",
   "execution_count": 42,
   "metadata": {},
   "outputs": [
    {
     "name": "stdout",
     "output_type": "stream",
     "text": [
      "E(MP2) = -157.577751503194  E_corr = -0.376737882288067\n",
      "Time:  0.19799925700044696\n"
     ]
    }
   ],
   "source": [
    "# step 2\n",
    "from pyscf import mp\n",
    "import timeit\n",
    "start = timeit.default_timer()\n",
    "pt = mp.MP2(mf).run()\n",
    "stop = timeit.default_timer()\n",
    "print(\"Time: \", stop - start)"
   ]
  },
  {
   "cell_type": "code",
   "execution_count": 43,
   "metadata": {},
   "outputs": [
    {
     "name": "stdout",
     "output_type": "stream",
     "text": [
      "-0.37673788228780597\n",
      "Time:  2.647096175000115\n"
     ]
    }
   ],
   "source": [
    "# step 3\n",
    "import numpy as np\n",
    "from pyscf import ao2mo\n",
    "\n",
    "import timeit\n",
    "start = timeit.default_timer()\n",
    "ntot = mf.get_occ().shape[0]\n",
    "nocc = np.count_nonzero(mf.get_occ())\n",
    "nvir = ntot - nocc\n",
    "e = mf.mo_energy\n",
    "\n",
    "# step 4\n",
    "aoints = mol.intor(\"int2e\")\n",
    "start = timeit.default_timer()\n",
    "moints = ao2mo.incore.full(aoints, mf.mo_coeff)\n",
    "\n",
    "# step 5\n",
    "ecorr = 0.0\n",
    "for i in range(nocc):\n",
    "    for j in range(i, nocc):\n",
    "        for a in range(nocc, ntot):\n",
    "            for b in range(nocc, ntot):\n",
    "                c = (2 - int(i == j))\n",
    "                ecorr += c * (moints[i, a, j, b] \\\n",
    "                           * (2 * moints[i, a, j, b] - moints[i, b, j, a])) \\\n",
    "                           / (e[i] + e[j] - e[a] - e[b])\n",
    "\n",
    "                \n",
    "stop = timeit.default_timer()\n",
    "print(ecorr)\n",
    "print(\"Time: \", stop - start)"
   ]
  },
  {
   "cell_type": "code",
   "execution_count": 44,
   "metadata": {},
   "outputs": [
    {
     "name": "stdout",
     "output_type": "stream",
     "text": [
      "17\n",
      "39\n"
     ]
    }
   ],
   "source": [
    "print(nocc)\n",
    "print(nvir)"
   ]
  },
  {
   "cell_type": "code",
   "execution_count": 45,
   "metadata": {},
   "outputs": [
    {
     "name": "stdout",
     "output_type": "stream",
     "text": [
      "-0.3767378822880667\n",
      "Time:  0.19784339599937084\n"
     ]
    }
   ],
   "source": [
    "start = timeit.default_timer()\n",
    "\n",
    "# step 3\n",
    "ntot = mf.get_occ().shape[0]\n",
    "nocc = np.count_nonzero(mf.get_occ())\n",
    "nvir = ntot - nocc\n",
    "e = mf.mo_energy\n",
    "co = np.asarray(mf.mo_coeff[:,:nocc])\n",
    "cv = np.asarray(mf.mo_coeff[:,nocc:])\n",
    "\n",
    "# step 4\n",
    "moints = ao2mo.general(mf._eri, (co, cv, co, cv))\n",
    "moints = moints.reshape(nocc, nvir, nocc, nvir)\n",
    "\n",
    "moints2 = moints.transpose(0,3,2,1)\n",
    "et  = np.asarray(e[:nocc, None,  None,  None] \\\n",
    "                 - e[None, nocc:, None,  None] \\\n",
    "                 + e[None, None, :nocc,  None] \\\n",
    "                 - e[None, None,  None,  nocc:])\n",
    "\n",
    "# step 5\n",
    "mat = moints * (2 * moints - moints2) / et\n",
    "\n",
    "print(np.sum(mat))\n",
    "stop = timeit.default_timer()\n",
    "print(\"Time: \", stop - start)"
   ]
  },
  {
   "cell_type": "code",
   "execution_count": 46,
   "metadata": {},
   "outputs": [
    {
     "data": {
      "text/plain": [
       "439569"
      ]
     },
     "execution_count": 46,
     "metadata": {},
     "output_type": "execute_result"
    }
   ],
   "source": [
    "np.prod(moints.shape)"
   ]
  },
  {
   "cell_type": "code",
   "execution_count": 3,
   "metadata": {},
   "outputs": [
    {
     "data": {
      "text/plain": [
       "56"
      ]
     },
     "execution_count": 3,
     "metadata": {},
     "output_type": "execute_result"
    }
   ],
   "source": [
    "len(mf.mo_energy)"
   ]
  },
  {
   "cell_type": "code",
   "execution_count": 7,
   "metadata": {},
   "outputs": [
    {
     "data": {
      "text/plain": [
       "2371600.0"
      ]
     },
     "execution_count": 7,
     "metadata": {},
     "output_type": "execute_result"
    }
   ],
   "source": [
    "(55 * 56 / 2) "
   ]
  },
  {
   "cell_type": "code",
   "execution_count": 10,
   "metadata": {},
   "outputs": [
    {
     "data": {
      "text/plain": [
       "7.0"
      ]
     },
     "execution_count": 10,
     "metadata": {},
     "output_type": "execute_result"
    }
   ],
   "source": [
    "56 / 8"
   ]
  },
  {
   "cell_type": "code",
   "execution_count": 24,
   "metadata": {},
   "outputs": [
    {
     "name": "stdout",
     "output_type": "stream",
     "text": [
      "[1 2]\n"
     ]
    }
   ],
   "source": [
    "import numpy as np\n",
    "\n",
    "a = np.array([1, 2])\n",
    "print(a)"
   ]
  },
  {
   "cell_type": "code",
   "execution_count": 31,
   "metadata": {},
   "outputs": [
    {
     "name": "stdout",
     "output_type": "stream",
     "text": [
      "[[[1 2]\n",
      "  [0 1]]\n",
      "\n",
      " [[2 3]\n",
      "  [1 2]]]\n"
     ]
    }
   ],
   "source": [
    "print(a[:, None, None] - a[None, :, None] + a[None, None, :])"
   ]
  },
  {
   "cell_type": "code",
   "execution_count": null,
   "metadata": {},
   "outputs": [],
   "source": [
    "np.einsum"
   ]
  }
 ],
 "metadata": {
  "kernelspec": {
   "display_name": "Python 3",
   "language": "python",
   "name": "python3"
  },
  "language_info": {
   "codemirror_mode": {
    "name": "ipython",
    "version": 3
   },
   "file_extension": ".py",
   "mimetype": "text/x-python",
   "name": "python",
   "nbconvert_exporter": "python",
   "pygments_lexer": "ipython3",
   "version": "3.7.3"
  }
 },
 "nbformat": 4,
 "nbformat_minor": 2
}

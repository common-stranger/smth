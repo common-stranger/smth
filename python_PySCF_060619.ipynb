{
 "cells": [
  {
   "cell_type": "markdown",
   "metadata": {},
   "source": [
    "### Basic expressions"
   ]
  },
  {
   "cell_type": "markdown",
   "metadata": {},
   "source": [
    "#### Data types"
   ]
  },
  {
   "cell_type": "code",
   "execution_count": null,
   "metadata": {},
   "outputs": [],
   "source": [
    "# example of comment\n",
    "\"\"\" example \n",
    "    of \n",
    "       multiline \n",
    "   comment \"\"\"\n",
    "\n",
    "a = 5                     # integer\n",
    "b = 5.1                   # float (64 bit = 8 byte). \n",
    "c = complex(3, 4)         # complex\n",
    "d = True                  # boolean\n",
    "e = \"example of string\"   # string\n",
    "f = \"\"\"\n",
    "example of \n",
    "multiline string\n",
    "\"\"\"\n",
    "\n",
    "g = [1, 1.1, complex(1, 2), False, \"text\", [1, 2]]  # list, support different types\n",
    "print(g)\n",
    "\n",
    "g = [a, b, c, d, e]  # list with variables as elements\n",
    "print(g)\n",
    "\n",
    "print(g[0]) # reference to element by [index] operator (and for any data structure)\n",
    "g[0] = 6\n",
    "print(g)"
   ]
  },
  {
   "cell_type": "code",
   "execution_count": null,
   "metadata": {
    "scrolled": true
   },
   "outputs": [],
   "source": [
    "# built-in function type() is useful for check of variable type\n",
    "\n",
    "print(\"Type of a is\", type(a))\n",
    "print(\"Type of b is\", type(b))\n",
    "print(\"Type of c is\", type(c))\n",
    "print(\"Type of d is\", type(d))\n",
    "print(\"Type of e is\", type(e))\n",
    "print(\"Type of f is\", type(f))\n",
    "print(\"Type of g is\", type(g))"
   ]
  },
  {
   "cell_type": "code",
   "execution_count": null,
   "metadata": {},
   "outputs": [],
   "source": [
    "# Python supports exponential notation\n",
    "\n",
    "a = 5e5\n",
    "b = 5.1e-9\n",
    "\n",
    "print(a)\n",
    "print(b)\n",
    "print(type(a))  # a was defined as int but exp notation always converts to float"
   ]
  },
  {
   "cell_type": "markdown",
   "metadata": {},
   "source": [
    "#### Type conversions"
   ]
  },
  {
   "cell_type": "code",
   "execution_count": null,
   "metadata": {},
   "outputs": [],
   "source": [
    "print(int(5.1))       # float to int\n",
    "print(float(5))       # int to float \n",
    "print(complex(5))     # int / float to complex. Back conversion is not allowed.\n",
    "print(float(\"5.1\"))   # stringed int / float to int / float. Doesn't work for complex.\n",
    "print(str(5.1))       # int / float to stringed int / float. Complex is acceptable.\n",
    "print(bool(5.1))      # int / float to bool: always True, except 0. Complex is acceptable.\n",
    "print(list(\"text\"))   # string to list"
   ]
  },
  {
   "cell_type": "markdown",
   "metadata": {},
   "source": [
    "#### Basic operations"
   ]
  },
  {
   "cell_type": "code",
   "execution_count": null,
   "metadata": {},
   "outputs": [],
   "source": [
    "# arithmetic operators: +, -, *, /, // (floor division), % (modulo), ** (exponentiation)\n",
    "\n",
    "print(\"2.3 + 3.5 =\", 2.3 + 3.5)\n",
    "print(\"2.1 - 3.1 =\", 2.1 - 3.1)\n",
    "print(\"4.3 * 3.6 =\", 4.3 * 3.6)\n",
    "print(\"15 / 4 =\", 15 / 4)\n",
    "print(\"15 // 4 =\", 15 // 4)\n",
    "print(\"15 % 4 =\", 15 % 4)\n",
    "print(\"2 ** 3 =\", 2 ** 3)"
   ]
  },
  {
   "cell_type": "code",
   "execution_count": null,
   "metadata": {
    "scrolled": true
   },
   "outputs": [],
   "source": [
    "# logical operators: <, <=, ==, !=, >=, >, and, or \n",
    "\n",
    "print(\"2 < 2\", 2 < 2)\n",
    "print(\"2 <= 2\", 2 <= 2)\n",
    "print(\"2 == 2\", 2 == 2)\n",
    "print(\"2 != 2\", 2 != 2)\n",
    "print(\"2 >= 2\", 2 >= 2)\n",
    "print(\"2 > 2\", 2 > 2)\n",
    "print(\"True and False:\", True and False)\n",
    "print(\"True or False:\", True or False)"
   ]
  },
  {
   "cell_type": "markdown",
   "metadata": {},
   "source": [
    "#### Functions"
   ]
  },
  {
   "cell_type": "markdown",
   "metadata": {},
   "source": [
    "Function should be defined before its use in code, i.e. declaration and definition of function are not divisible."
   ]
  },
  {
   "cell_type": "code",
   "execution_count": null,
   "metadata": {},
   "outputs": [],
   "source": [
    "def double(x):\n",
    "    return x * 2   # indentation in Python is used for dividing code into blocks: \n",
    "                   # bodies of functions, if-statements, and classes.\n",
    "\n",
    "def sum_of_sq(x, y):\n",
    "    xsq = x ** 2\n",
    "    ysq = y ** 2\n",
    "    return xsq + ysq\n",
    "\n",
    "a = 2\n",
    "b = double(a)\n",
    "print(b)\n",
    "print(sum_of_sq(3, 4))"
   ]
  },
  {
   "cell_type": "markdown",
   "metadata": {},
   "source": [
    "### Basic data structures in Python"
   ]
  },
  {
   "cell_type": "markdown",
   "metadata": {},
   "source": [
    "list - simple array of elements."
   ]
  },
  {
   "cell_type": "code",
   "execution_count": null,
   "metadata": {
    "scrolled": true
   },
   "outputs": [],
   "source": [
    "# initialization\n",
    "a = [1, 2, 3, 2, 4, 1, 3]\n",
    "b = [7, 8, 9]\n",
    "print(a)\n",
    "\n",
    "# add new element\n",
    "a.append(5)\n",
    "print(a)\n",
    "\n",
    "# one of built-in methods is sorting\n",
    "a.sort()\n",
    "print(a)\n",
    "\n",
    "# lists support summation. Works similar to operation of union.\n",
    "print(a + b)"
   ]
  },
  {
   "cell_type": "markdown",
   "metadata": {},
   "source": [
    "tuple - immutable list, i.e. doesn't include methods to change it after initialization. Only way is to convert to list, change list, and convert back to tuple, i.e. create new tuple."
   ]
  },
  {
   "cell_type": "code",
   "execution_count": null,
   "metadata": {
    "scrolled": true
   },
   "outputs": [],
   "source": [
    "# initialization\n",
    "a = (1, 2, 3, 2, 4, 1, 3)\n",
    "b = (7, 8, 9)\n",
    "print(a)\n",
    "\n",
    "# immutable but support summation same as for lists\n",
    "print(a + b)\n",
    "\n",
    "# way to change tuple\n",
    "print()\n",
    "print(b)\n",
    "b = list(b)\n",
    "b.append(10)\n",
    "b = tuple(b)\n",
    "print(b)"
   ]
  },
  {
   "cell_type": "markdown",
   "metadata": {},
   "source": [
    "dict - list with non-integer indexes. Index is called key, associated element - value, and pair (key: value) is item."
   ]
  },
  {
   "cell_type": "code",
   "execution_count": null,
   "metadata": {},
   "outputs": [],
   "source": [
    "# declaration and initialization\n",
    "a = {\"a\": \"apple\", \"b\": \"banana\", \"c\": \"coconut\"}\n",
    "print(a)\n",
    "\n",
    "# change value of key\n",
    "a[\"b\"] = \"blueberry\"\n",
    "print(a)\n",
    "\n",
    "# add new key\n",
    "a[\"g\"] = \"grapefruit\"\n",
    "print(a)\n",
    "\n",
    "# only keys\n",
    "print(a.keys())\n",
    "\n",
    "# only values\n",
    "print(a.values())\n",
    "\n",
    "# (key: value) list - items\n",
    "print(a.items())"
   ]
  },
  {
   "cell_type": "markdown",
   "metadata": {},
   "source": [
    "set - list with unique values"
   ]
  },
  {
   "cell_type": "code",
   "execution_count": null,
   "metadata": {
    "scrolled": true
   },
   "outputs": [],
   "source": [
    "# sets don't have special brackets for initialization, \n",
    "# therefore for initialization conversion from list or element-wise adding is used\n",
    "\n",
    "# list\n",
    "a = [1, 2, 3, 2, 4, 1, 3]\n",
    "print(a)\n",
    "\n",
    "# convert to set\n",
    "a = set(a)\n",
    "print(a)\n",
    "\n",
    "# method to include new elements\n",
    "a.add(3)  # already included, no change\n",
    "print(a)\n",
    "a.add(5)\n",
    "print(a)"
   ]
  },
  {
   "cell_type": "markdown",
   "metadata": {},
   "source": [
    "### Cycles: for and while"
   ]
  },
  {
   "cell_type": "code",
   "execution_count": null,
   "metadata": {},
   "outputs": [],
   "source": [
    "# range(init = 0, end, step = 1): default init = 0, default step = 1. end is not included.\n",
    "# default values for range: all three cycles below are same\n",
    "\n",
    "for i in range(0, 2, 1):\n",
    "    print(i)\n",
    "    \n",
    "print()\n",
    "for i in range(0, 2):\n",
    "    print(i)\n",
    "    \n",
    "print()\n",
    "for i in range(2):\n",
    "    print(i)\n",
    "    "
   ]
  },
  {
   "cell_type": "code",
   "execution_count": null,
   "metadata": {},
   "outputs": [],
   "source": [
    "# limits and step are any\n",
    "\n",
    "for i in range(2, -2, -1):\n",
    "    print(i)"
   ]
  },
  {
   "cell_type": "code",
   "execution_count": null,
   "metadata": {},
   "outputs": [],
   "source": [
    "# for-cycle \"for i in range(0, 2, 1)\" converted into while-cycle.\n",
    "# while-cycle usually used when upper limit is unknown\n",
    "\n",
    "i = 0\n",
    "while i < 2:\n",
    "    print(i)\n",
    "    i += 1   # i = i + 1"
   ]
  },
  {
   "cell_type": "code",
   "execution_count": null,
   "metadata": {},
   "outputs": [],
   "source": [
    "# all data structures (list, tuple, dict, set) are iterable in for-cycles\n",
    "\n",
    "a = [0, 1, 2]\n",
    "for i in a:\n",
    "    print(i)\n",
    "    \n",
    "print()\n",
    "a = (0, 1, 2)\n",
    "for i in a:\n",
    "    print(i)\n",
    "    "
   ]
  },
  {
   "cell_type": "markdown",
   "metadata": {
    "slideshow": {
     "slide_type": "slide"
    }
   },
   "source": [
    "### Namespaces and scope\n",
    "Namespace is dictionary where key is name of variable and value is value of variable (number, object, function, class, etc.). \n",
    "\n",
    "Scope is set of namespaces that are checked when name of variable is called in code. Every function has its own namespace and scope.\n",
    "\n",
    "To detect namespace and scope of particular line of code is simple task: indented block of code define namespace; path to global namespace along indented blocks defines scope."
   ]
  },
  {
   "cell_type": "code",
   "execution_count": null,
   "metadata": {},
   "outputs": [],
   "source": [
    "# code without indentation is global namespace. Its scope is only global namespace.\n",
    "\n",
    "a = 5 # a is in global namespace\n",
    "\n",
    "def f(a): # a is local for f\n",
    "    # Scope: namespace of f -> global namespace.\n",
    "    \n",
    "    print(a) \n",
    "    a = 7  # reference to local a, doesn't change global\n",
    "    \n",
    "f(a) # reference to global a\n",
    "print(a) # a is global"
   ]
  },
  {
   "cell_type": "code",
   "execution_count": null,
   "metadata": {},
   "outputs": [],
   "source": [
    "# code without indentation is global namespace. Its scope is only global namespace.\n",
    "\n",
    "a = 5 # a is in global namespace\n",
    "\n",
    "def f():\n",
    "    # Scope: namespace of f -> global namespace.\n",
    "    \n",
    "    print(a)  # reference to a in global namespace (not good, everything local is better)\n",
    "    \n",
    "    # a = 7   # uncommented this line will cause error, because Python will decide \n",
    "              # that a is defined in namespace of f, but it was referenced in previous line.\n",
    "    \n",
    "f()\n",
    "print(a)"
   ]
  },
  {
   "cell_type": "code",
   "execution_count": null,
   "metadata": {},
   "outputs": [],
   "source": [
    "a = 5\n",
    "\n",
    "def f():\n",
    "    # Scope: namespace of f -> global namespace.\n",
    "    \n",
    "    a = 7\n",
    "    f2()\n",
    "    \n",
    "def f2():\n",
    "    # Scope: namespace of f2 -> global namespace.\n",
    "    # f2 doesn't have access to variables in namespace of f\n",
    "    \n",
    "    print(a)  # reference to a in global namespace\n",
    "    \n",
    "f()\n",
    "print(a)"
   ]
  },
  {
   "cell_type": "code",
   "execution_count": null,
   "metadata": {
    "scrolled": true
   },
   "outputs": [],
   "source": [
    "a = 5\n",
    "\n",
    "def f():\n",
    "    # Scope: namespace of f -> global namespace.\n",
    "    def f3():\n",
    "        # Scope: namespace of f3 -> namespace of f -> global namespace.\n",
    "        print(a) # reference to a in namespace of f.\n",
    "    a = 7\n",
    "    f3()\n",
    "    \n",
    "f()\n",
    "# f3()   # uncommented this line will cause error, because \n",
    "         # f3 is defined in namaspace of f, that is not included in global scope.\n",
    "print(a)"
   ]
  },
  {
   "cell_type": "code",
   "execution_count": null,
   "metadata": {},
   "outputs": [],
   "source": [
    "# BUT, variable of list is just reference to address of its first element, \n",
    "# so idea about local namespaces doesn't work for lists.\n",
    "\n",
    "a = [5, 6]\n",
    "print(a)\n",
    "\n",
    "def f(a):\n",
    "    def f2(a):\n",
    "        a[0] = 8\n",
    "    a.append(7)\n",
    "    f2(a)\n",
    "\n",
    "f(a)\n",
    "print(a) # changed in f and f2"
   ]
  },
  {
   "cell_type": "code",
   "execution_count": null,
   "metadata": {},
   "outputs": [],
   "source": [
    "# how to avoid it? example in next cells\n",
    "\n",
    "# id() - function that returns unique id of variable\n",
    "\n",
    "a = 5\n",
    "b = a\n",
    "# same\n",
    "print(id(a))\n",
    "print(id(b))\n",
    "print()\n",
    "\n",
    "b = 6\n",
    "# different\n",
    "print(id(a))\n",
    "print(id(b))"
   ]
  },
  {
   "cell_type": "code",
   "execution_count": null,
   "metadata": {},
   "outputs": [],
   "source": [
    "a = [5, 6]\n",
    "b = a\n",
    "# same\n",
    "print(id(a))\n",
    "print(id(b))\n",
    "print(a)\n",
    "print()\n",
    "\n",
    "b[0] = 7 # referenced to element, not to list\n",
    "# same\n",
    "print(id(a))\n",
    "print(id(b))\n",
    "# changed too\n",
    "print(a)"
   ]
  },
  {
   "cell_type": "code",
   "execution_count": null,
   "metadata": {},
   "outputs": [],
   "source": [
    "a = [5, 6]\n",
    "b = a.copy() # method that creates new copy of list\n",
    "# different\n",
    "print(id(a))\n",
    "print(id(b))\n",
    "print(a)\n",
    "print()\n",
    "\n",
    "b[0] = 7\n",
    "# different\n",
    "print(id(a))\n",
    "print(id(b))\n",
    "# not changed\n",
    "print(a)"
   ]
  },
  {
   "cell_type": "markdown",
   "metadata": {},
   "source": [
    "### Classes and objects"
   ]
  },
  {
   "cell_type": "code",
   "execution_count": null,
   "metadata": {},
   "outputs": [],
   "source": [
    "class Vector():\n",
    "    \"\"\"Class of 2d vectors\"\"\"    \n",
    "    \n",
    "    # constructor of object\n",
    "    def __init__(self, x = 0, y = 0):\n",
    "        self.x = x\n",
    "        self.y = y\n",
    "        \n",
    "    # __str__ special method that convert object into string when called \"print(object)\"\n",
    "    # print(v1) will print (v1.x, v1.y) \n",
    "    def __str__(self):\n",
    "        return \"(%.2f, %.2f)\" % (self.x, self.y)\n",
    "    \n",
    "    def add(self, v2):\n",
    "        if type(v2) != Vector:\n",
    "            raise Exception(\"Vector can be sum up only with vector\")\n",
    "        v3 = Vector()\n",
    "        v3.x = self.x + v2.x\n",
    "        v3.y = self.y + v2.y\n",
    "        return v3\n",
    "    \n",
    "    def mul(self, v2):\n",
    "        return self.x * v2.x + self.y * v2.y\n",
    "    \n",
    "    def norm(self):\n",
    "        length = (self.x ** 2 + self.y ** 2) ** 0.5\n",
    "        return length\n",
    "    "
   ]
  },
  {
   "cell_type": "code",
   "execution_count": null,
   "metadata": {},
   "outputs": [],
   "source": [
    "vec1 = Vector(3, 4)\n",
    "vec2 = Vector(4, 6)\n",
    "vec3 = vec1"
   ]
  },
  {
   "cell_type": "code",
   "execution_count": null,
   "metadata": {},
   "outputs": [],
   "source": [
    "vec1 is vec2"
   ]
  },
  {
   "cell_type": "code",
   "execution_count": null,
   "metadata": {},
   "outputs": [],
   "source": [
    "print(length2)"
   ]
  },
  {
   "cell_type": "code",
   "execution_count": null,
   "metadata": {
    "scrolled": true
   },
   "outputs": [],
   "source": [
    "try:\n",
    "    for i in range(-2,2):\n",
    "        print(5 / i)\n",
    "except ZeroDivisionError:\n",
    "    print(0)\n",
    "except TypeError:\n",
    "    print(\"wrong expression\")\n",
    "    \n",
    "if x = 0:\n",
    "    raise \"x is equal to 0\""
   ]
  },
  {
   "cell_type": "code",
   "execution_count": null,
   "metadata": {},
   "outputs": [],
   "source": [
    "a = 5\n",
    "a is 5"
   ]
  },
  {
   "cell_type": "code",
   "execution_count": null,
   "metadata": {},
   "outputs": [],
   "source": [
    "class Complex(Vector):\n",
    "    \"\"\"Class of complex numbers\"\"\"\n",
    "    \n",
    "    def __init__(self, x = 0, y = 0):\n",
    "        Vector.__init__(self, x, y)\n",
    "        \n",
    "    def mul(self, c2):\n",
    "        c3 = Complex()\n",
    "        c3.x = self.x * c2.x - self.y * c2.y\n",
    "        c3.y = self.x * c2.y + self.y * c2.x\n",
    "        return c3\n",
    "    \n",
    "    def conjugate(self):\n",
    "        c2 = Complex()\n",
    "        c2.x = self.x\n",
    "        c2.y = -self.y\n",
    "        return c2\n",
    "\n",
    "    \n"
   ]
  },
  {
   "cell_type": "code",
   "execution_count": null,
   "metadata": {},
   "outputs": [],
   "source": [
    "c1 = Complex(3, 4)\n",
    "c2 = Complex(4, 6)"
   ]
  },
  {
   "cell_type": "code",
   "execution_count": null,
   "metadata": {},
   "outputs": [],
   "source": [
    "c3 = c1.mul(c2).conjugate()\n",
    "print(c3)"
   ]
  },
  {
   "cell_type": "code",
   "execution_count": null,
   "metadata": {},
   "outputs": [],
   "source": [
    "a = \"alpha,beta&theta$omega,zeta\""
   ]
  },
  {
   "cell_type": "code",
   "execution_count": null,
   "metadata": {},
   "outputs": [],
   "source": [
    "print(a)\n",
    "print(a.split(\",\"))\n",
    "print(a.split(\",\")[1])\n",
    "print(a.split(\",\")[1].split('&'))\n",
    "print(a.split(\",\")[1].split('&')[1])\n",
    "print(a.split(\",\")[1].split('&')[1].split('$'))\n",
    "print(a.split(\",\")[1].split('&')[1].split('$')[0])\n",
    "print(a.split(\",\")[1].split('&')[1].split('$')[0][2])\n",
    "\n",
    "print()\n",
    "print(a[a.index(\"theta\") + 2])"
   ]
  },
  {
   "cell_type": "code",
   "execution_count": null,
   "metadata": {},
   "outputs": [],
   "source": [
    "import numpy as np\n",
    "\n",
    "a = np.array([[1.2, complex(1.3, 1.4)], [complex(2.1, 2.2), 3.4]])\n",
    "print(type(a))\n",
    "print(a.shape[1])"
   ]
  },
  {
   "cell_type": "code",
   "execution_count": null,
   "metadata": {},
   "outputs": [],
   "source": [
    "a = [0, 1, 2, 3]\n",
    "print(a)\n",
    "print(a[2])"
   ]
  },
  {
   "cell_type": "code",
   "execution_count": null,
   "metadata": {},
   "outputs": [],
   "source": [
    "def myreduce(f, items, init):\n",
    "    \n",
    "    value = init\n",
    "    for i in range(len(items)):\n",
    "        value = f(value, items[i])\n",
    "        \n",
    "    return value"
   ]
  },
  {
   "cell_type": "code",
   "execution_count": null,
   "metadata": {},
   "outputs": [],
   "source": [
    "def myreduce2(f, items, init = None):\n",
    "    \n",
    "    if init is not None:\n",
    "        value = f(init, items[0])\n",
    "        items = items[1:]\n",
    "    else: \n",
    "        value = init\n",
    "\n",
    "    for i in range(index, len(items)):\n",
    "        value = f(value, items[i])\n",
    "        \n",
    "    return value"
   ]
  },
  {
   "cell_type": "code",
   "execution_count": null,
   "metadata": {},
   "outputs": [],
   "source": [
    "import operator\n",
    "\n",
    "a = [1, 2, 3, 4, 5]\n",
    "print(sum(a))\n",
    "print(myreduce(operator.add, a))"
   ]
  },
  {
   "cell_type": "code",
   "execution_count": null,
   "metadata": {},
   "outputs": [],
   "source": [
    "from functools import reduce\n",
    "\n",
    "print(reduce(operator.add, a))"
   ]
  },
  {
   "cell_type": "code",
   "execution_count": null,
   "metadata": {},
   "outputs": [],
   "source": [
    "a = [0, 1, 2]"
   ]
  },
  {
   "cell_type": "code",
   "execution_count": null,
   "metadata": {},
   "outputs": [],
   "source": [
    "a.append(4)\n",
    "a"
   ]
  },
  {
   "cell_type": "code",
   "execution_count": null,
   "metadata": {},
   "outputs": [],
   "source": [
    "a = 5\n",
    "A = 6\n",
    "print(a)\n",
    "print(A)"
   ]
  },
  {
   "cell_type": "code",
   "execution_count": null,
   "metadata": {},
   "outputs": [],
   "source": [
    "def simpleGeneratorFun(): \n",
    "    return 1\n",
    "    return 2\n",
    "    return 3\n",
    "\n",
    "simpleGeneratorFun()"
   ]
  },
  {
   "cell_type": "code",
   "execution_count": null,
   "metadata": {},
   "outputs": [],
   "source": [
    "def Fun(): \n",
    "    yield 1\n",
    "    yield 2\n",
    "    yield 3\n",
    "  \n",
    "\n",
    "values = Fun()\n",
    "print(values)\n",
    "print(next(values))\n",
    "print(next(values))\n",
    "print(next(values))\n",
    "print(next(values))"
   ]
  },
  {
   "cell_type": "code",
   "execution_count": null,
   "metadata": {},
   "outputs": [],
   "source": [
    "def simpleGeneratorFun(): \n",
    "    yield 1\n",
    "    yield 2\n",
    "    yield 3\n",
    "  \n",
    "for v in simpleGeneratorFun():  \n",
    "    print(v)"
   ]
  },
  {
   "cell_type": "code",
   "execution_count": null,
   "metadata": {},
   "outputs": [],
   "source": [
    "def nextSquare(): \n",
    "    i = 1; \n",
    "\n",
    "    while True: \n",
    "        yield i*i                 \n",
    "        i += 1     \n",
    "  \n",
    "\n",
    "for num in nextSquare(): \n",
    "    if num > 16: \n",
    "         break    \n",
    "    print(num)"
   ]
  },
  {
   "cell_type": "code",
   "execution_count": null,
   "metadata": {},
   "outputs": [],
   "source": [
    "# example state\n",
    "\n",
    "def fib():\n",
    "    n, last, cur = 1, 0, 1\n",
    "    while True: \n",
    "        yield n, cur\n",
    "        n, last, cur = n + 1, cur, last + cur\n",
    "\n",
    "for n, fn in fib():\n",
    "    if n > 5: break\n",
    "    print(fn)"
   ]
  },
  {
   "cell_type": "code",
   "execution_count": null,
   "metadata": {},
   "outputs": [],
   "source": [
    "# example send\n",
    "\n",
    "def is_prime(number):\n",
    "    for i in range(2, number):\n",
    "        if number % i == 0:\n",
    "            return False\n",
    "        \n",
    "    return True\n",
    "\n",
    "\n",
    "def get_primes(number = 2):\n",
    "\n",
    "    while True:\n",
    "        if is_prime(number):\n",
    "            number = yield number\n",
    "        number += 1\n",
    "\n",
    "def print_n_primes(n):\n",
    "    \n",
    "    prime_gen = get_primes()\n",
    "    cur = next(prime_gen)\n",
    "    \n",
    "    for i in range(n):\n",
    "        print(cur)\n",
    "        cur = prime_gen.send(cur + 2)\n",
    "        \n",
    "print_n_primes(5)"
   ]
  },
  {
   "cell_type": "code",
   "execution_count": null,
   "metadata": {},
   "outputs": [],
   "source": []
  },
  {
   "cell_type": "markdown",
   "metadata": {},
   "source": [
    "### Pipek-Mezey localization"
   ]
  },
  {
   "cell_type": "code",
   "execution_count": null,
   "metadata": {},
   "outputs": [],
   "source": [
    "import os\n",
    "os.chdir(\"pyscf/pyscf/lo/\")"
   ]
  },
  {
   "cell_type": "code",
   "execution_count": null,
   "metadata": {},
   "outputs": [],
   "source": [
    "from pyscf.lo import pipek, boys\n",
    "from pipek import PM\n",
    "from pyscf.soscf import ciah\n",
    "import numpy\n",
    "from functools import reduce\n",
    "\n",
    "# not important for discussion\n",
    "import warnings\n",
    "warnings.filterwarnings('ignore')"
   ]
  },
  {
   "cell_type": "code",
   "execution_count": null,
   "metadata": {},
   "outputs": [],
   "source": [
    "def atomic_pops(mol, mo_coeff, method='meta_lowdin'):\n",
    "    '''\n",
    "    Kwargs:\n",
    "        method : string\n",
    "            one of mulliken, lowdin, meta_lowdin\n",
    "\n",
    "    Returns:\n",
    "        A 3-index tensor [A,i,j] indicates the population of any orbital-pair\n",
    "        density |i><j| for each species (atom in this case).  This tensor is\n",
    "        used to construct the population and gradients etc.\n",
    "        \n",
    "        You can customize the PM localization wrt other population metric,\n",
    "        such as the charge of a site, the charge of a fragment (a group of\n",
    "        atoms) by overwriting this tensor.  See also the example\n",
    "        pyscf/examples/loc_orb/40-hubbard_model_PM_localization.py for the PM\n",
    "        localization of site-based population for hubbard model.\n",
    "    '''\n",
    "    # define type of integrals and calculate overlap matrix\n",
    "    if getattr(mol, 'pbc_intor', None):  # whether mol object is a cell\n",
    "        s = mol.pbc_intor('int1e_ovlp_sph', hermi=1)\n",
    "    else:\n",
    "        s = mol.intor_symmetric('int1e_ovlp')\n",
    "        \n",
    "    # number of molecular orbitals\n",
    "    nmo = mo_coeff.shape[1]\n",
    "\n",
    "    # initialize 3D population matrix P(number of atoms, number of MO, number of MO)\n",
    "    proj = numpy.empty((mol.natm,nmo,nmo))\n",
    "    \n",
    "    if method.lower() == 'mulliken':\n",
    "        for i, (b0, b1, p0, p1) in enumerate(mol.offset_nr_by_atom()):\n",
    "            csc = reduce(numpy.dot, (mo_coeff[p0:p1].conj().T, s[p0:p1], mo_coeff))\n",
    "            proj[i] = (csc + csc.conj().T) * .5\n",
    "\n",
    "    elif method.lower() in ('lowdin', 'meta_lowdin'):\n",
    "        c = orth.restore_ao_character(mol, 'ANO')\n",
    "        csc = reduce(lib.dot, (mo_coeff.conj().T, s, orth.orth_ao(mol, method, c, s=s)))\n",
    "        for i, (b0, b1, p0, p1) in enumerate(mol.offset_nr_by_atom()):\n",
    "            proj[i] = numpy.dot(csc[:,p0:p1], csc[:,p0:p1].conj().T)\n",
    "    else:\n",
    "        raise KeyError('method = %s' % method)\n",
    "\n",
    "    return proj"
   ]
  },
  {
   "cell_type": "code",
   "execution_count": null,
   "metadata": {
    "scrolled": true
   },
   "outputs": [],
   "source": [
    "from pyscf import gto, scf\n",
    "\n",
    "mol = gto.Mole()\n",
    "mol.atom = '''\n",
    "     O   0.    0.     0.2\n",
    "     H    0.   -0.5   -0.4\n",
    "     H    0.    0.5   -0.4\n",
    "    '''\n",
    "mol.basis = 'sto3g'\n",
    "mol.build()\n",
    "mf = scf.RHF(mol).run()\n",
    "\n",
    "mo = PM(mol).kernel(mf.mo_coeff[:,5:7], verbose=4)"
   ]
  },
  {
   "cell_type": "code",
   "execution_count": null,
   "metadata": {},
   "outputs": [],
   "source": [
    "print(\"\\n\\n\")\n",
    "print(numpy.round(mf.mo_coeff, 2))"
   ]
  },
  {
   "cell_type": "code",
   "execution_count": null,
   "metadata": {
    "scrolled": true
   },
   "outputs": [],
   "source": [
    "print(numpy.round(mo, 2))"
   ]
  },
  {
   "cell_type": "code",
   "execution_count": null,
   "metadata": {},
   "outputs": [],
   "source": [
    "a = atomic_pops(mol, mf.mo_coeff[:,:5], method=\"mulliken\")"
   ]
  },
  {
   "cell_type": "code",
   "execution_count": null,
   "metadata": {},
   "outputs": [],
   "source": [
    "print(a)"
   ]
  },
  {
   "cell_type": "code",
   "execution_count": null,
   "metadata": {},
   "outputs": [],
   "source": [
    "def cost_function(self, u=None):\n",
    "    if u is None: u = numpy.eye(self.mo_coeff.shape[1])\n",
    "        mo_coeff = lib.dot(self.mo_coeff, u)\n",
    "        pop = self.atomic_pops(self.mol, mo_coeff, self.pop_method)\n",
    "    if self.exponent == 2:\n",
    "        return numpy.einsum('xii,xii->', pop, pop)\n",
    "    else:\n",
    "        pop2 = numpy.einsum('xii->xi', pop)**2\n",
    "        return numpy.einsum('xi,xi', pop2, pop2)"
   ]
  },
  {
   "cell_type": "code",
   "execution_count": null,
   "metadata": {},
   "outputs": [],
   "source": [
    "def kernel(localizer, mo_coeff=None, callback=None, verbose=None):\n",
    "    from pyscf.tools import mo_mapping\n",
    "    if mo_coeff is not None:\n",
    "        localizer.mo_coeff = numpy.asarray(mo_coeff, order='C')\n",
    "    if localizer.mo_coeff.shape[1] <= 1:\n",
    "        return localizer.mo_coeff\n",
    "\n",
    "    if localizer.verbose >= logger.WARN:\n",
    "        localizer.check_sanity()\n",
    "    localizer.dump_flags()\n",
    "\n",
    "    cput0 = (time.clock(), time.time())\n",
    "    log = logger.new_logger(localizer, verbose=verbose)\n",
    "\n",
    "    if localizer.conv_tol_grad is None:\n",
    "        conv_tol_grad = numpy.sqrt(localizer.conv_tol*.1)\n",
    "        log.info('Set conv_tol_grad to %g', conv_tol_grad)\n",
    "    else:\n",
    "        conv_tol_grad = localizer.conv_tol_grad\n",
    "\n",
    "    if mo_coeff is None:\n",
    "        if getattr(localizer, 'mol', None) and localizer.mol.natm == 0:\n",
    "            # For customized Hamiltonian\n",
    "            u0 = localizer.get_init_guess('random')\n",
    "        else:\n",
    "            u0 = localizer.get_init_guess(localizer.init_guess)\n",
    "    else:\n",
    "        u0 = localizer.get_init_guess(None)\n",
    "\n",
    "    rotaiter = ciah.rotate_orb_cc(localizer, u0, conv_tol_grad, verbose=log)\n",
    "    u, g_orb, stat = next(rotaiter)\n",
    "    cput1 = log.timer('initializing CIAH', *cput0)\n",
    "\n",
    "    tot_kf = stat.tot_kf\n",
    "    tot_hop = stat.tot_hop\n",
    "    conv = False\n",
    "    e_last = 0\n",
    "    for imacro in range(localizer.max_cycle):\n",
    "        norm_gorb = numpy.linalg.norm(g_orb)\n",
    "        u0 = lib.dot(u0, u)\n",
    "        e = localizer.cost_function(u0)\n",
    "        e_last, de = e, e-e_last\n",
    "        \n",
    "        \n",
    "        log.info('macro= %d  f(x)= %.14g  delta_f= %g  |g|= %g  %d KF %d Hx',\n",
    "                 imacro+1, e, de, norm_gorb, stat.tot_kf+1, stat.tot_hop)\n",
    "        cput1 = log.timer('cycle= %d'%(imacro+1), *cput1)\n",
    "\n",
    "        if (norm_gorb < conv_tol_grad and abs(de) < localizer.conv_tol):\n",
    "            conv = True\n",
    "\n",
    "        if callable(callback):\n",
    "            callback(locals())\n",
    "\n",
    "        if conv:\n",
    "            break\n",
    "\n",
    "        u, g_orb, stat = rotaiter.send(u0)\n",
    "        tot_kf += stat.tot_kf\n",
    "        tot_hop += stat.tot_hop\n",
    "\n",
    "    rotaiter.close()\n",
    "    log.info('macro X = %d  f(x)= %.14g  |g|= %g  %d intor %d KF %d Hx',\n",
    "             imacro+1, e, norm_gorb,\n",
    "             (imacro+1)*2, tot_kf+imacro+1, tot_hop)\n",
    "# Sort the localized orbitals, to make each localized orbitals as close as\n",
    "# possible to the corresponding input orbitals\n",
    "    sorted_idx = mo_mapping.mo_1to1map(u0)\n",
    "    localizer.mo_coeff = lib.dot(localizer.mo_coeff, u0[:,sorted_idx])\n",
    "    return localizer.mo_coeff"
   ]
  },
  {
   "cell_type": "code",
   "execution_count": null,
   "metadata": {},
   "outputs": [],
   "source": [
    "\n",
    "\n",
    "from pyscf import gto, scf\n",
    "\n",
    "mol = gto.Mole()\n",
    "mol.atom = '''\n",
    "     O   0.    0.     0.2\n",
    "     H    0.   -0.5   -0.4\n",
    "     H    0.    0.5   -0.4\n",
    "    '''\n",
    "mol.basis = 'sto3g'\n",
    "mol.build()\n",
    "scfcalc = scf.RHF(mol).run()\n",
    "\n",
    "mo = PM(mol).kernel(mf.mo_coeff[:,:], verbose=4)"
   ]
  },
  {
   "cell_type": "code",
   "execution_count": null,
   "metadata": {},
   "outputs": [],
   "source": [
    "scfcalc.mulliken_pop()"
   ]
  },
  {
   "cell_type": "code",
   "execution_count": null,
   "metadata": {},
   "outputs": [],
   "source": []
  },
  {
   "cell_type": "code",
   "execution_count": null,
   "metadata": {},
   "outputs": [],
   "source": [
    "from pyscf.lo import pipek\n",
    "import numpy\n",
    "from functools import reduce\n",
    "from pyscf.lo import orth\n",
    "from pyscf import lib\n",
    "\n",
    "def print_summary(calcinfo, outfile):\n",
    "    \n",
    "    outfile = open(outfile, \"w\")\n",
    "    outfile.write(\"Total energy: \" + str(calcinfo.energy_tot()) + \"\\n\")\n",
    "    outfile.write(\"MO coeff: \\n\")\n",
    "    outfile.write(str(numpy.round(calcinfo.mo_coeff, 1)))\n",
    "    outfile.write(\"\\nMO energy: \\n\")\n",
    "    outfile.write(str(calcinfo.mo_energy))\n",
    "    outfile.close()\n",
    "\n",
    "def atomic_pops(mol, mo_coeff, method='meta_lowdin'):\n",
    "    '''\n",
    "    Kwargs:\n",
    "        method : string\n",
    "            one of mulliken, lowdin, meta_lowdin\n",
    "\n",
    "    Returns:\n",
    "        A 3-index tensor [A,i,j] indicates the population of any orbital-pair\n",
    "        density |i><j| for each species (atom in this case).  This tensor is\n",
    "        used to construct the population and gradients etc.\n",
    "        \n",
    "        You can customize the PM localization wrt other population metric,\n",
    "        such as the charge of a site, the charge of a fragment (a group of\n",
    "        atoms) by overwriting this tensor.  See also the example\n",
    "        pyscf/examples/loc_orb/40-hubbard_model_PM_localization.py for the PM\n",
    "        localization of site-based population for hubbard model.\n",
    "    '''\n",
    "    if getattr(mol, 'pbc_intor', None):  # whether mol object is a cell\n",
    "        s = mol.pbc_intor('int1e_ovlp_sph', hermi=1)\n",
    "    else:\n",
    "        s = mol.intor_symmetric('int1e_ovlp')\n",
    "    nmo = mo_coeff.shape[1]\n",
    "    proj = numpy.empty((mol.natm,nmo,nmo))\n",
    "\n",
    "    if method.lower() == 'mulliken':\n",
    "        for i, (b0, b1, p0, p1) in enumerate(mol.offset_nr_by_atom()):\n",
    "            csc = reduce(numpy.dot, (mo_coeff[p0:p1].conj().T, s[p0:p1], mo_coeff))\n",
    "            proj[i] = (csc + csc.conj().T) * .5\n",
    "\n",
    "    elif method.lower() in ('lowdin', 'meta_lowdin'):\n",
    "        c = orth.restore_ao_character(mol, 'ANO')\n",
    "        csc = reduce(lib.dot, (mo_coeff.conj().T, s, orth.orth_ao(mol, method, c, s=s)))\n",
    "        for i, (b0, b1, p0, p1) in enumerate(mol.offset_nr_by_atom()):\n",
    "            proj[i] = numpy.dot(csc[:,p0:p1], csc[:,p0:p1].conj().T)\n",
    "    else:\n",
    "        raise KeyError('method = %s' % method)\n",
    "\n",
    "    units = mol.units\n",
    "    nunit = len(units)\n",
    "    region_proj = numpy.zeros((nunit,nmo,nmo))\n",
    "    \n",
    "    for i in range(nunit):\n",
    "        low = units[i][0] - 1\n",
    "        up  = units[i][1]\n",
    "        for j in range(low, up):\n",
    "            region_proj[i] += proj[j]\n",
    "    \n",
    "    return region_proj\n",
    "\n",
    "\n",
    "class RLMO(pipek.PipekMezey):\n",
    "\n",
    "    def atomic_pops(self, mol, mo_coeff, method=None):\n",
    "        if method is None:\n",
    "            method = self.pop_method\n",
    "        return atomic_pops(mol, mo_coeff, method)\n",
    "\n",
    "\n",
    "if __name__ == '__main__':\n",
    "    from pyscf import gto, scf\n",
    "    \n",
    "    mol = gto.Mole()\n",
    "    mol.atom = '''\n",
    "                C    4.80585    -0.85311    1.96913  \n",
    "                H    5.1625    -1.86192    1.96913  \n",
    "                H    5.16252    -0.34871    2.84278  \n",
    "                H    5.16252    -0.34871    1.09548  \n",
    "                C    3.26585    -0.85309    1.96913  \n",
    "                H    2.9092    0.15572    1.97108  \n",
    "                H    2.90918    -1.35579    1.0945  \n",
    "                C    2.75251    -1.58148    3.22512  \n",
    "                H    3.10949    -1.079    4.09975  \n",
    "                H    3.10885    -2.5904    3.22298  \n",
    "                C    1.21251    -1.58099    3.22539  \n",
    "                H    0.85553    -2.0834    2.35072  \n",
    "                H    0.85616    -0.57208    3.22762  \n",
    "                H    0.71486    -2.13574    4.355959\n",
    "               '''\n",
    "    mol.units = [[1,7], [8, 14]]\n",
    "    mol.basis = 'sto3g'\n",
    "\n",
    "    \n",
    "    mf = scf.RHF(mol).run()\n",
    "    print_summary(mf, \"h2o.out\")\n",
    "    \n",
    "    print(mf.get_occ())\n",
    "    print(numpy.where(mf.get_occ() < 0.1))\n",
    "    occlim = numpy.where(mf.get_occ() == 0)[0][0]\n",
    "    print(occlim)\n",
    "\n",
    "    mo = RLMO(mol).kernel(mf.mo_coeff[:,occlim:], verbose=4)\n",
    "    moround = numpy.round(mo, 1)\n",
    "    \n",
    "    print(numpy.round(mf.mo_coeff[:,occlim:], 1))\n",
    "    print()\n",
    "    print(moround)\n",
    "    outfile = open(\"h2o.out\", \"a\")\n",
    "    outfile.write(moround)\n",
    "    outfile.close()\n",
    "    \n",
    "    \"\"\"\n",
    "                   H    2.5   0.   0.\n",
    "               O    3.46   0.   0.\n",
    "               H    3.700364804   0.929421734   0. \"\"\"\n",
    "    \"\"\"\n",
    "    mol = gto.Mole()\n",
    "    mol.atom = '''\n",
    "                C    4.80585    -0.85311    1.96913  \n",
    "                H    5.1625    -1.86192    1.96913  \n",
    "                H    5.16252    -0.34871    2.84278  \n",
    "                H    5.16252    -0.34871    1.09548  \n",
    "                C    3.26585    -0.85309    1.96913  \n",
    "                H    2.9092    0.15572    1.97108  \n",
    "                H    2.90918    -1.35579    1.0945  \n",
    "                C    2.75251    -1.58148    3.22512  \n",
    "                H    3.10949    -1.079    4.09975  \n",
    "                H    3.10885    -2.5904    3.22298  \n",
    "                C    1.21251    -1.58099    3.22539  \n",
    "                H    0.85553    -2.0834    2.35072  \n",
    "                H    0.85616    -0.57208    3.22762  \n",
    "                H    0.71486    -2.13574    4.355959\n",
    "               '''\n",
    "    mol.units = [[1,7], [8, 14]]\n",
    "    \n",
    "    mf = scf.RHF(mol).run()\n",
    "\n",
    "    occlim = numpy.where(mf.get_occ() < 0.1)[0][0]\n",
    "    mo = RLMO(mol).kernel(mf.mo_coeff[:,:occlim], verbose=4)\n",
    "    moround = numpy.round(mo, 1)\n",
    "\n",
    "    print(moround)\n",
    "    \"\"\"\n",
    "\n",
    "    \"\"\"\n",
    "    mol = gto.Mole()\n",
    "    mol.atom = '''\n",
    "               H    0.0   0.   0.\n",
    "               O    0.96   0.   0.\n",
    "               H    1.200364804   0.929421734   0.\n",
    "               H    2.5   0.   0.\n",
    "               O    3.46   0.   0.\n",
    "               H    3.700364804   0.929421734   0.\n",
    "               '''\n",
    "    mol.basis = 'sto3g'\n",
    "    mol.units = [[1, 3], [4, 6]]\n",
    "\n",
    "    mf = scf.RHF(mol).run()\n",
    "\n",
    "    print(mf.get_occ())\n",
    "    mo = RLMO(mol).kernel(mf.mo_coeff[:,:10], verbose=4)\n",
    "    moround = numpy.round(mo, 1)\n",
    "    print(moround)\n",
    "\"\"\""
   ]
  },
  {
   "cell_type": "code",
   "execution_count": null,
   "metadata": {},
   "outputs": [],
   "source": [
    "\n",
    "e  = numpy.einsum('xii,xii->', pop, pop)\n",
    "g0 = numpy.einsum('xii,xip->pi', pop, pop)\n"
   ]
  },
  {
   "cell_type": "code",
   "execution_count": null,
   "metadata": {},
   "outputs": [],
   "source": [
    "0.1 + 0.2"
   ]
  },
  {
   "cell_type": "code",
   "execution_count": null,
   "metadata": {},
   "outputs": [],
   "source": [
    "output = open(\"smth.out\", \"w\")\n",
    "output.write(\"Hello, World\\n\")\n",
    "output.write(\"Hello, World 2\\n\")\n",
    "output.close()"
   ]
  },
  {
   "cell_type": "code",
   "execution_count": null,
   "metadata": {},
   "outputs": [],
   "source": [
    "input_file = open(\"smth.out\", \"r\")\n",
    "print(print.__doc__)\n",
    "print(line)\n",
    "input_file.close()"
   ]
  },
  {
   "cell_type": "code",
   "execution_count": null,
   "metadata": {},
   "outputs": [],
   "source": [
    "def f():\n",
    "    \"\"\" Just function \"\"\"\n",
    "    pass\n",
    "\n",
    "print(f.__doc__)"
   ]
  },
  {
   "cell_type": "code",
   "execution_count": null,
   "metadata": {},
   "outputs": [],
   "source": [
    "import numpy\n",
    "\n",
    "print(numpy.array.__doc__)"
   ]
  },
  {
   "cell_type": "code",
   "execution_count": null,
   "metadata": {},
   "outputs": [],
   "source": [
    "inpfile = open(\"smth.out\", \"r\")\n",
    "outfile = open(\"geom.out\", \"w\")\n",
    "for i in inpfile:\n",
    "    line = i.split()\n",
    "    del line[1]\n",
    "    tmpline = \"   \".join(line) \n",
    "    outfile.write(tmpline)\n",
    "    \n",
    "inpfile.close()\n",
    "outfile.close()\n",
    "geom = molinfo[1:]\n",
    "basis = molinfo[0]\n",
    "\n",
    "basis = basis.split(\" = \")[1].rstrip()\n",
    "#print(basis)\n",
    "#print(geom)\n"
   ]
  },
  {
   "cell_type": "code",
   "execution_count": null,
   "metadata": {},
   "outputs": [],
   "source": [
    "from pyscf import gto, scf\n",
    "\n",
    "mol = gto.Mole()\n",
    "\n",
    "mol.atom = geom\n",
    "mol.basis = basis\n",
    "\n",
    "mf = scf.RHF(mol).run()"
   ]
  },
  {
   "cell_type": "code",
   "execution_count": null,
   "metadata": {},
   "outputs": [],
   "source": [
    "outfile = open(\"output\", \"w\")\n",
    "outfile.write(\"Total energy: \" + str(mf.energy_tot()) + \"\\n\")\n",
    "outfile.write(\"MO coeff: \\n\")\n",
    "outfile.write(str(numpy.round(mf.mo_coeff, 1)))\n",
    "outfile.write(\"\\nMO energy: \\n\")\n",
    "outfile.write(str(mf.mo_energy))\n",
    "outfile.close()"
   ]
  },
  {
   "cell_type": "code",
   "execution_count": null,
   "metadata": {},
   "outputs": [],
   "source": []
  }
 ],
 "metadata": {
  "kernelspec": {
   "display_name": "Python 3",
   "language": "python",
   "name": "python3"
  },
  "language_info": {
   "codemirror_mode": {
    "name": "ipython",
    "version": 3
   },
   "file_extension": ".py",
   "mimetype": "text/x-python",
   "name": "python",
   "nbconvert_exporter": "python",
   "pygments_lexer": "ipython3",
   "version": "3.7.3"
  }
 },
 "nbformat": 4,
 "nbformat_minor": 2
}
